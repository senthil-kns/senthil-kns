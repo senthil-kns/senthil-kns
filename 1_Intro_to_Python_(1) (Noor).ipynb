{
  "cells": [
    {
      "cell_type": "markdown",
      "metadata": {
        "id": "view-in-github",
        "colab_type": "text"
      },
      "source": [
        "<a href=\"https://colab.research.google.com/github/senthil-kns/senthil-kns/blob/main/1_Intro_to_Python_(1)%20(Noor).ipynb\" target=\"_parent\"><img src=\"https://colab.research.google.com/assets/colab-badge.svg\" alt=\"Open In Colab\"/></a>"
      ]
    },
    {
      "cell_type": "markdown",
      "id": "c4d2dc36",
      "metadata": {
        "id": "c4d2dc36"
      },
      "source": [
        "![Screenshot%202023-05-07%20at%208.17.30%20AM.png](attachment:Screenshot%202023-05-07%20at%208.17.30%20AM.png)"
      ]
    },
    {
      "cell_type": "code",
      "execution_count": null,
      "id": "49100d78",
      "metadata": {
        "id": "49100d78"
      },
      "outputs": [],
      "source": [
        "# Variable Names\n",
        "\n",
        "# Variable names are used to store data values. They can be composed of letters, digits, and underscores.\n",
        "# Here are some examples of variable names:\n",
        "\n",
        "batch_no = 21  # Assigning an integer value to the variable batch_no\n",
        "institute = 'inceptez'  # Assigning a string value to the variable institute\n",
        "trainer = 'noordeen'  # Assigning a string value to the variable trainer\n",
        "capacity = 48  # Assigning an integer value to the variable capacity\n",
        "weekend_batch = True  # Assigning a boolean value to the variable weekend_batch\n",
        "turmeric = 250  # Assigning an integer value to the variable turmeric\n"
      ]
    },
    {
      "cell_type": "code",
      "execution_count": null,
      "id": "66218d04",
      "metadata": {
        "id": "66218d04"
      },
      "outputs": [],
      "source": [
        "\n",
        "# Interview Question: What are variables in programming?\n",
        "# Answer: Variables are containers used to store data values."
      ]
    },
    {
      "cell_type": "code",
      "execution_count": null,
      "id": "d299d4da",
      "metadata": {
        "id": "d299d4da",
        "outputId": "fbe65b3f-e11e-471c-f572-144c143bfba3"
      },
      "outputs": [
        {
          "name": "stdout",
          "output_type": "stream",
          "text": [
            "batch_no: 21\n",
            "institute: inceptez\n",
            "trainer: noordeen\n",
            "capacity: 48\n",
            "weekend_batch: False\n",
            "turmeric: 200\n"
          ]
        }
      ],
      "source": [
        "# Printing the values of the variables\n",
        "print(\"batch_no:\", batch_no)\n",
        "print(\"institute:\", institute)\n",
        "print(\"trainer:\", trainer)\n",
        "print(\"capacity:\", capacity)\n",
        "print(\"weekend_batch:\", weekend_batch)\n",
        "print(\"turmeric:\", turmeric)"
      ]
    },
    {
      "cell_type": "code",
      "execution_count": null,
      "id": "1580e02c",
      "metadata": {
        "id": "1580e02c",
        "outputId": "0af95e34-f10d-4824-b592-722b969366b8"
      },
      "outputs": [
        {
          "data": {
            "text/plain": [
              "(int, str, int, bool)"
            ]
          },
          "execution_count": 164,
          "metadata": {},
          "output_type": "execute_result"
        }
      ],
      "source": [
        "#integer, String, Boolean, Float\n",
        "\n",
        "type(batch_no), type(institute), type(capacity), type(weekend_batch)"
      ]
    },
    {
      "cell_type": "code",
      "execution_count": null,
      "id": "890ef874",
      "metadata": {
        "id": "890ef874",
        "outputId": "fd724363-551b-4cf8-87dc-5f05fe48280b"
      },
      "outputs": [
        {
          "name": "stdout",
          "output_type": "stream",
          "text": [
            "Data types:\n",
            "batch_no: <class 'int'>\n",
            "institute: <class 'str'>\n",
            "trainer: <class 'str'>\n",
            "capacity: <class 'int'>\n",
            "weekend_batch: <class 'bool'>\n",
            "turmeric: <class 'int'>\n"
          ]
        }
      ],
      "source": [
        "# Data Types\n",
        "\n",
        "# Python has several built-in data types. Here are the data types of the variables above:\n",
        "\n",
        "print(\"Data types:\")\n",
        "print(\"batch_no:\", type(batch_no))  # int\n",
        "print(\"institute:\", type(institute))  # str\n",
        "print(\"trainer:\", type(trainer))  # str\n",
        "print(\"capacity:\", type(capacity))  # int\n",
        "print(\"weekend_batch:\", type(weekend_batch))  # bool\n",
        "print(\"turmeric:\", type(turmeric))  # int"
      ]
    },
    {
      "cell_type": "code",
      "execution_count": null,
      "id": "fa197212",
      "metadata": {
        "id": "fa197212"
      },
      "outputs": [],
      "source": [
        "# Operators\n",
        "\n",
        "# Interview Question: What are operators in programming?\n",
        "# Answer: Operators are symbols used to perform operations on variables and values.\n",
        "\n",
        "# Arithmetic Operators\n",
        "# Interview Question: What are arithmetic operators in Python?\n",
        "# Answer: Arithmetic operators are used to perform mathematical calculations.\n"
      ]
    },
    {
      "cell_type": "code",
      "execution_count": null,
      "id": "d97dc618",
      "metadata": {
        "id": "d97dc618",
        "outputId": "e3380f42-373c-4cf6-e399-45ebfd0beebe"
      },
      "outputs": [
        {
          "name": "stdout",
          "output_type": "stream",
          "text": [
            "Updated turmeric value: 150\n"
          ]
        }
      ],
      "source": [
        "\n",
        "# Arithmetic Operations\n",
        "\n",
        "# Arithmetic operations are used to perform mathematical calculations. Here are some examples:\n",
        "\n",
        "turmeric = turmeric - 50  # Subtracting 50 from the variable turmeric\n",
        "print(\"Updated turmeric value:\", turmeric)"
      ]
    },
    {
      "cell_type": "code",
      "execution_count": null,
      "id": "bd53f540",
      "metadata": {
        "id": "bd53f540",
        "outputId": "a1095875-cd37-4f7f-dd68-061acca1a37a"
      },
      "outputs": [
        {
          "data": {
            "text/plain": [
              "200"
            ]
          },
          "execution_count": 18,
          "metadata": {},
          "output_type": "execute_result"
        }
      ],
      "source": [
        "turmeric"
      ]
    },
    {
      "cell_type": "code",
      "execution_count": null,
      "id": "0b7caeba",
      "metadata": {
        "id": "0b7caeba",
        "outputId": "e0b0c960-f51e-4d33-8316-3ba9423008f2"
      },
      "outputs": [
        {
          "name": "stdout",
          "output_type": "stream",
          "text": [
            "abc_123: 23\n",
            "Updated weekend_batch value: False\n"
          ]
        }
      ],
      "source": [
        "# Rules of Variable Names\n",
        "\n",
        "# Variable names in Python must follow certain rules:\n",
        "# - They must start with a letter or an underscore.\n",
        "# - They can contain letters, digits, and underscores.\n",
        "# - They are case-sensitive, meaning \"myVariable\" and \"myvariable\" are different variables.\n",
        "\n",
        "# Here are some examples of variable names:\n",
        "\n",
        "# Invalid variable name: starts with a number\n",
        "# 1abc = 23  # Uncomment this line to see the error\n",
        "\n",
        "# Invalid variable name: assignment to an operator\n",
        "# abc+1 = 77  # Uncomment this line to see the error\n",
        "\n",
        "# Valid variable name\n",
        "abc_123 = 23\n",
        "print(\"abc_123:\", abc_123)\n",
        "\n",
        "# Updating the weekend_batch variable\n",
        "weekend_batch = False\n",
        "\n",
        "# Printing the updated value of weekend_batch\n",
        "print(\"Updated weekend_batch value:\", weekend_batch)\n",
        "\n",
        "# Invalid assignment: cannot assign to True or False\n",
        "# True = 87  # Uncomment this line to see the error\n",
        "\n",
        "# Invalid variable name: using a reserved keyword\n",
        "# if = 282  # Uncomment this line to see the error\n",
        "\n",
        "\n"
      ]
    },
    {
      "cell_type": "code",
      "execution_count": null,
      "id": "564232ff",
      "metadata": {
        "id": "564232ff",
        "outputId": "6de862d9-a541-4e4d-de77-257921cd0ba2"
      },
      "outputs": [
        {
          "ename": "SyntaxError",
          "evalue": "invalid syntax (850900547.py, line 2)",
          "output_type": "error",
          "traceback": [
            "\u001b[0;36m  File \u001b[0;32m\"/var/folders/cv/kmsppstx0d9281mtbqrrgl6c0000gn/T/ipykernel_5607/850900547.py\"\u001b[0;36m, line \u001b[0;32m2\u001b[0m\n\u001b[0;31m    1abc = 23\u001b[0m\n\u001b[0m     ^\u001b[0m\n\u001b[0;31mSyntaxError\u001b[0m\u001b[0;31m:\u001b[0m invalid syntax\n"
          ]
        }
      ],
      "source": [
        "#Rules of Variables\n",
        "1abc = 23"
      ]
    },
    {
      "cell_type": "code",
      "execution_count": null,
      "id": "843044a2",
      "metadata": {
        "id": "843044a2",
        "outputId": "39b6bc0e-f0d2-4e89-a022-66476c2eb6b0"
      },
      "outputs": [
        {
          "ename": "SyntaxError",
          "evalue": "cannot assign to operator (3275763562.py, line 1)",
          "output_type": "error",
          "traceback": [
            "\u001b[0;36m  File \u001b[0;32m\"/var/folders/cv/kmsppstx0d9281mtbqrrgl6c0000gn/T/ipykernel_5607/3275763562.py\"\u001b[0;36m, line \u001b[0;32m1\u001b[0m\n\u001b[0;31m    abc+1 = 77\u001b[0m\n\u001b[0m    ^\u001b[0m\n\u001b[0;31mSyntaxError\u001b[0m\u001b[0;31m:\u001b[0m cannot assign to operator\n"
          ]
        }
      ],
      "source": [
        "abc+1 = 77"
      ]
    },
    {
      "cell_type": "code",
      "execution_count": null,
      "id": "d494fac1",
      "metadata": {
        "id": "d494fac1"
      },
      "outputs": [],
      "source": [
        "abc_123 = 23"
      ]
    },
    {
      "cell_type": "code",
      "execution_count": null,
      "id": "1f2d7d28",
      "metadata": {
        "id": "1f2d7d28"
      },
      "outputs": [],
      "source": [
        "weekend_batch = False"
      ]
    },
    {
      "cell_type": "code",
      "execution_count": null,
      "id": "3f184d00",
      "metadata": {
        "id": "3f184d00",
        "outputId": "3a8bf01d-bee5-4e1a-ad78-be4207789771"
      },
      "outputs": [
        {
          "data": {
            "text/plain": [
              "False"
            ]
          },
          "execution_count": 28,
          "metadata": {},
          "output_type": "execute_result"
        }
      ],
      "source": [
        "weekend_batch"
      ]
    },
    {
      "cell_type": "code",
      "execution_count": null,
      "id": "2c8f9cfb",
      "metadata": {
        "id": "2c8f9cfb",
        "outputId": "d5c7e4e7-3aba-4cc1-f81f-33bf95a038fe"
      },
      "outputs": [
        {
          "ename": "SyntaxError",
          "evalue": "cannot assign to True (1775129316.py, line 1)",
          "output_type": "error",
          "traceback": [
            "\u001b[0;36m  File \u001b[0;32m\"/var/folders/cv/kmsppstx0d9281mtbqrrgl6c0000gn/T/ipykernel_5607/1775129316.py\"\u001b[0;36m, line \u001b[0;32m1\u001b[0m\n\u001b[0;31m    True = 87\u001b[0m\n\u001b[0m    ^\u001b[0m\n\u001b[0;31mSyntaxError\u001b[0m\u001b[0;31m:\u001b[0m cannot assign to True\n"
          ]
        }
      ],
      "source": [
        "True = 87"
      ]
    },
    {
      "cell_type": "code",
      "execution_count": null,
      "id": "f29d404b",
      "metadata": {
        "id": "f29d404b",
        "outputId": "76036976-1376-4848-bb45-f8df46dd3226"
      },
      "outputs": [
        {
          "ename": "SyntaxError",
          "evalue": "invalid syntax (3572453409.py, line 1)",
          "output_type": "error",
          "traceback": [
            "\u001b[0;36m  File \u001b[0;32m\"/var/folders/cv/kmsppstx0d9281mtbqrrgl6c0000gn/T/ipykernel_5607/3572453409.py\"\u001b[0;36m, line \u001b[0;32m1\u001b[0m\n\u001b[0;31m    if = 282\u001b[0m\n\u001b[0m       ^\u001b[0m\n\u001b[0;31mSyntaxError\u001b[0m\u001b[0;31m:\u001b[0m invalid syntax\n"
          ]
        }
      ],
      "source": [
        "if = 282"
      ]
    },
    {
      "cell_type": "markdown",
      "id": "4b8a14e8",
      "metadata": {
        "id": "4b8a14e8"
      },
      "source": [
        "![Screenshot%202023-05-07%20at%208.25.40%20AM.png](attachment:Screenshot%202023-05-07%20at%208.25.40%20AM.png)"
      ]
    },
    {
      "cell_type": "code",
      "execution_count": null,
      "id": "e9d3c280",
      "metadata": {
        "id": "e9d3c280",
        "outputId": "63878723-8eed-4112-efc9-0b17943263db"
      },
      "outputs": [
        {
          "name": "stdout",
          "output_type": "stream",
          "text": [
            "Total: 35\n",
            "Division: 4.0\n",
            "salt > chilli: False\n",
            "salt < chilli: True\n"
          ]
        }
      ],
      "source": [
        "# Arithmetic Operator\n",
        "\n",
        "# Arithmetic operators are used to perform mathematical calculations. Here are some examples:\n",
        "\n",
        "pepper = 20\n",
        "salt = 5\n",
        "chilli = 10\n",
        "\n",
        "# Adding pepper, salt, and chilli\n",
        "total = pepper + salt + chilli\n",
        "print(\"Total:\", total)\n",
        "\n",
        "# Division of pepper and salt\n",
        "division = pepper / salt\n",
        "print(\"Division:\", division)\n",
        "\n",
        "# Comparison Operator\n",
        "\n",
        "# Comparison operators are used to compare two values. They return a boolean value (True or False). Here are some examples:\n",
        "\n",
        "# Checking if salt is greater than chilli\n",
        "greater = salt > chilli\n",
        "print(\"salt > chilli:\", greater)\n",
        "\n",
        "# Checking if salt is less than chilli\n",
        "less = salt < chilli\n",
        "print(\"salt < chilli:\", less)"
      ]
    },
    {
      "cell_type": "code",
      "execution_count": null,
      "id": "8546b7b5",
      "metadata": {
        "id": "8546b7b5",
        "outputId": "57c29c8d-d96b-4199-b57b-9cfc2eb1953e"
      },
      "outputs": [
        {
          "name": "stdout",
          "output_type": "stream",
          "text": [
            "either_true: True\n",
            "both_true: False\n",
            "negation of kashmir_chilli: False\n"
          ]
        }
      ],
      "source": [
        "# Logical Operators (AND, OR, NOT)\n",
        "\n",
        "kashmir_chilli = True\n",
        "normal_chilli = False\n",
        "salt = True\n",
        "\n",
        "# Checking if either Kashmir chilli or normal chilli is true\n",
        "either_true = kashmir_chilli or normal_chilli\n",
        "print(\"either_true:\", either_true)\n",
        "\n",
        "# Checking if both Kashmir chilli and normal chilli are true\n",
        "both_true = kashmir_chilli and normal_chilli\n",
        "print(\"both_true:\", both_true)\n",
        "\n",
        "# Negating the value of kashmir_chilli\n",
        "negation = not kashmir_chilli\n",
        "print(\"negation of kashmir_chilli:\", negation)"
      ]
    },
    {
      "cell_type": "code",
      "execution_count": null,
      "id": "2628cffb",
      "metadata": {
        "id": "2628cffb"
      },
      "outputs": [],
      "source": [
        "pepper = 20\n",
        "salt = 5\n",
        "chilli = 10\n"
      ]
    },
    {
      "cell_type": "code",
      "execution_count": null,
      "id": "3b555310",
      "metadata": {
        "id": "3b555310",
        "outputId": "601c45d5-e027-4166-87a7-30533f50f87e"
      },
      "outputs": [
        {
          "data": {
            "text/plain": [
              "35"
            ]
          },
          "execution_count": 40,
          "metadata": {},
          "output_type": "execute_result"
        }
      ],
      "source": [
        "#Arithmetic Operator\n",
        "pepper+salt+chilli"
      ]
    },
    {
      "cell_type": "code",
      "execution_count": null,
      "id": "429cc9d4",
      "metadata": {
        "id": "429cc9d4",
        "outputId": "0661a08d-b50f-4947-d83b-a067c9fca0e5"
      },
      "outputs": [
        {
          "data": {
            "text/plain": [
              "4.0"
            ]
          },
          "execution_count": 41,
          "metadata": {},
          "output_type": "execute_result"
        }
      ],
      "source": [
        "pepper/salt"
      ]
    },
    {
      "cell_type": "code",
      "execution_count": null,
      "id": "134efdf7",
      "metadata": {
        "id": "134efdf7",
        "outputId": "8a2240d3-cfdf-4f0e-93f5-34e9f9b1112e"
      },
      "outputs": [
        {
          "data": {
            "text/plain": [
              "False"
            ]
          },
          "execution_count": 42,
          "metadata": {},
          "output_type": "execute_result"
        }
      ],
      "source": [
        "#Comparison Operator\n",
        "salt>chilli"
      ]
    },
    {
      "cell_type": "code",
      "execution_count": null,
      "id": "6db100d6",
      "metadata": {
        "id": "6db100d6",
        "outputId": "ac5672bc-f3b1-4298-8df0-6298739492ba"
      },
      "outputs": [
        {
          "data": {
            "text/plain": [
              "True"
            ]
          },
          "execution_count": 43,
          "metadata": {},
          "output_type": "execute_result"
        }
      ],
      "source": [
        "salt<chilli"
      ]
    },
    {
      "cell_type": "code",
      "execution_count": null,
      "id": "951be99c",
      "metadata": {
        "id": "951be99c"
      },
      "outputs": [],
      "source": [
        "#AND OR NOT"
      ]
    },
    {
      "cell_type": "code",
      "execution_count": null,
      "id": "ea20da45",
      "metadata": {
        "id": "ea20da45"
      },
      "outputs": [],
      "source": [
        "kashmir_chilli = True\n",
        "normal_chilli = False\n",
        "salt = True"
      ]
    },
    {
      "cell_type": "code",
      "execution_count": null,
      "id": "5127014d",
      "metadata": {
        "id": "5127014d",
        "outputId": "0a82f355-25e7-4f3d-e504-d62a576e5c3a"
      },
      "outputs": [
        {
          "data": {
            "text/plain": [
              "True"
            ]
          },
          "execution_count": 46,
          "metadata": {},
          "output_type": "execute_result"
        }
      ],
      "source": [
        "kashmir_chilli or normal_chilli"
      ]
    },
    {
      "cell_type": "code",
      "execution_count": null,
      "id": "fc215258",
      "metadata": {
        "id": "fc215258",
        "outputId": "ba79528e-d147-46cb-87b3-6984f9f6ac70"
      },
      "outputs": [
        {
          "data": {
            "text/plain": [
              "False"
            ]
          },
          "execution_count": 47,
          "metadata": {},
          "output_type": "execute_result"
        }
      ],
      "source": [
        "kashmir_chilli and normal_chilli"
      ]
    },
    {
      "cell_type": "code",
      "execution_count": null,
      "id": "7e5a05d4",
      "metadata": {
        "id": "7e5a05d4",
        "outputId": "42f45078-b6bf-4d6e-b953-0fa8a2edf8db"
      },
      "outputs": [
        {
          "data": {
            "text/plain": [
              "False"
            ]
          },
          "execution_count": 48,
          "metadata": {},
          "output_type": "execute_result"
        }
      ],
      "source": [
        "not kashmir_chilli"
      ]
    },
    {
      "cell_type": "markdown",
      "id": "5be03bbe",
      "metadata": {
        "id": "5be03bbe"
      },
      "source": [
        "![Screenshot%202023-05-07%20at%208.30.34%20AM.png](attachment:Screenshot%202023-05-07%20at%208.30.34%20AM.png)"
      ]
    },
    {
      "cell_type": "code",
      "execution_count": null,
      "id": "9ac8dbed",
      "metadata": {
        "id": "9ac8dbed"
      },
      "outputs": [],
      "source": [
        "#Condition"
      ]
    },
    {
      "cell_type": "code",
      "execution_count": null,
      "id": "60fb05d2",
      "metadata": {
        "id": "60fb05d2"
      },
      "outputs": [],
      "source": [
        "a = 50\n",
        "b = 10\n",
        "c = 20"
      ]
    },
    {
      "cell_type": "code",
      "execution_count": null,
      "id": "45111e00",
      "metadata": {
        "id": "45111e00",
        "outputId": "51aa0b32-c5b0-4507-d804-01e3cf81a23c"
      },
      "outputs": [
        {
          "name": "stdout",
          "output_type": "stream",
          "text": [
            "a is greater\n"
          ]
        }
      ],
      "source": [
        "if a>b:\n",
        "    print(\"a is greater\")\n",
        "else:\n",
        "    print(\"b is greater\")\n",
        ""
      ]
    },
    {
      "cell_type": "code",
      "execution_count": null,
      "id": "c2fb421c",
      "metadata": {
        "id": "c2fb421c",
        "outputId": "e86745f1-60ea-4042-efbf-97ed23e146d4"
      },
      "outputs": [
        {
          "name": "stdout",
          "output_type": "stream",
          "text": [
            "c is greater\n"
          ]
        }
      ],
      "source": [
        "if a>b>c:\n",
        "    print(\"a is greater\")\n",
        "elif b>c:\n",
        "    print(\"b is greater\")\n",
        "else:\n",
        "    print(\"c is greater\")"
      ]
    },
    {
      "cell_type": "code",
      "execution_count": null,
      "id": "f92b33b2",
      "metadata": {
        "id": "f92b33b2",
        "outputId": "ec0a70cc-88db-4df9-e626-a2e532c82e99"
      },
      "outputs": [
        {
          "name": "stdout",
          "output_type": "stream",
          "text": [
            "a is greater\n"
          ]
        }
      ],
      "source": [
        "if (a>b) and (a>c):\n",
        "    print('a is greater')\n",
        ""
      ]
    },
    {
      "cell_type": "code",
      "execution_count": null,
      "id": "a814b454",
      "metadata": {
        "id": "a814b454"
      },
      "outputs": [],
      "source": []
    },
    {
      "cell_type": "markdown",
      "id": "7183a027",
      "metadata": {
        "id": "7183a027"
      },
      "source": [
        "![Screenshot%202023-05-07%20at%208.41.04%20AM.png](attachment:Screenshot%202023-05-07%20at%208.41.04%20AM.png)"
      ]
    },
    {
      "cell_type": "code",
      "execution_count": null,
      "id": "16a6b53b",
      "metadata": {
        "id": "16a6b53b",
        "outputId": "594d9a33-42ca-42f9-eded-b9bb5760268f"
      },
      "outputs": [
        {
          "name": "stdout",
          "output_type": "stream",
          "text": [
            "[1, 2, 3, 4, 5, 6, 7, 8, 9]\n"
          ]
        }
      ],
      "source": [
        "print(list(range(1,10)))"
      ]
    },
    {
      "cell_type": "code",
      "execution_count": null,
      "id": "50a74889",
      "metadata": {
        "id": "50a74889",
        "outputId": "2927a323-8cf3-4a5e-f20a-582de147afe0"
      },
      "outputs": [
        {
          "name": "stdout",
          "output_type": "stream",
          "text": [
            "Remaining Eggs =  90\n"
          ]
        }
      ],
      "source": [
        "egg = 100\n",
        "egg = egg - 1\n",
        "egg = egg - 1\n",
        "egg = egg - 1\n",
        "egg = egg - 1\n",
        "egg = egg - 1\n",
        "egg = egg - 1\n",
        "egg = egg - 1\n",
        "egg = egg - 1\n",
        "egg = egg - 1\n",
        "egg = egg - 1\n",
        "print(\"Remaining Eggs = \",egg)"
      ]
    },
    {
      "cell_type": "code",
      "execution_count": null,
      "id": "86eba3e9",
      "metadata": {
        "id": "86eba3e9",
        "outputId": "da3fbf17-8f6d-41fd-cdff-8cde9dbf6d21"
      },
      "outputs": [
        {
          "name": "stdout",
          "output_type": "stream",
          "text": [
            "Total Eggs =  100\n",
            "0\n",
            "1\n",
            "2\n",
            "3\n",
            "4\n",
            "5\n",
            "6\n",
            "7\n",
            "8\n",
            "9\n",
            "Remaining Eggs =  90\n"
          ]
        }
      ],
      "source": [
        "egg = 100\n",
        "print(\"Total Eggs = \",egg)\n",
        "for i in range(0,10): # for 10 times\n",
        "    print(i)\n",
        "    egg = egg - 1 #Break the egg\n",
        "print(\"Remaining Eggs = \",egg)"
      ]
    },
    {
      "cell_type": "code",
      "execution_count": null,
      "id": "865cae53",
      "metadata": {
        "id": "865cae53"
      },
      "outputs": [],
      "source": [
        "egg = 100\n",
        "no_of_eggs_to_break = 0\n",
        "while no_of_eggs_to_break<10:\n",
        "    egg = egg - 1\n",
        "    no_of_eggs_to_break = no_of_eggs_to_break+1\n",
        "    print(no_of_eggs_to_break)\n",
        "print(\"Remaining Eggs = \",egg)\n",
        ""
      ]
    },
    {
      "cell_type": "code",
      "execution_count": null,
      "id": "6e7dbe9a",
      "metadata": {
        "id": "6e7dbe9a",
        "outputId": "543ae471-b634-4000-96a6-f9608b34a289"
      },
      "outputs": [
        {
          "data": {
            "text/plain": [
              "5"
            ]
          },
          "execution_count": 98,
          "metadata": {},
          "output_type": "execute_result"
        }
      ],
      "source": [
        "2+3"
      ]
    },
    {
      "cell_type": "markdown",
      "id": "78d5aec2",
      "metadata": {
        "id": "78d5aec2"
      },
      "source": [
        "# Function or Modules"
      ]
    },
    {
      "cell_type": "markdown",
      "id": "2a2f5180",
      "metadata": {
        "id": "2a2f5180"
      },
      "source": [
        "![Screenshot%202023-05-07%20at%209.11.25%20AM.png](attachment:Screenshot%202023-05-07%20at%209.11.25%20AM.png)"
      ]
    },
    {
      "cell_type": "code",
      "execution_count": null,
      "id": "8258dd17",
      "metadata": {
        "id": "8258dd17"
      },
      "outputs": [],
      "source": [
        "#Function Declaration\n",
        "def addition(a,b):\n",
        "    print(a+b)\n",
        "    return a+b"
      ]
    },
    {
      "cell_type": "code",
      "execution_count": null,
      "id": "aafbc03e",
      "metadata": {
        "id": "aafbc03e",
        "outputId": "07b70919-e6b7-4be0-ca52-4185462fd9c7"
      },
      "outputs": [
        {
          "name": "stdout",
          "output_type": "stream",
          "text": [
            "6\n",
            "6\n"
          ]
        }
      ],
      "source": [
        "#Function Called\n",
        "answer = addition(2,4)\n",
        "print(answer)"
      ]
    },
    {
      "cell_type": "code",
      "execution_count": null,
      "id": "eeb0ce5f",
      "metadata": {
        "id": "eeb0ce5f",
        "outputId": "9baddb48-35df-4554-83ec-dc0eae8c3842"
      },
      "outputs": [
        {
          "name": "stdout",
          "output_type": "stream",
          "text": [
            "26899\n"
          ]
        },
        {
          "data": {
            "text/plain": [
              "26899"
            ]
          },
          "execution_count": 96,
          "metadata": {},
          "output_type": "execute_result"
        }
      ],
      "source": [
        "addition(23445,3454)"
      ]
    },
    {
      "cell_type": "code",
      "execution_count": null,
      "id": "d07efea1",
      "metadata": {
        "id": "d07efea1",
        "outputId": "373d9b83-246f-44a2-8496-ee02fbfc3e3c"
      },
      "outputs": [
        {
          "name": "stdout",
          "output_type": "stream",
          "text": [
            "26899\n"
          ]
        },
        {
          "data": {
            "text/plain": [
              "26899"
            ]
          },
          "execution_count": 97,
          "metadata": {},
          "output_type": "execute_result"
        }
      ],
      "source": [
        "addition(23445,3454)"
      ]
    },
    {
      "cell_type": "code",
      "execution_count": null,
      "id": "36d34b26",
      "metadata": {
        "id": "36d34b26"
      },
      "outputs": [],
      "source": []
    },
    {
      "cell_type": "code",
      "execution_count": null,
      "id": "21b2ebdf",
      "metadata": {
        "id": "21b2ebdf"
      },
      "outputs": [],
      "source": [
        "# Data Structures"
      ]
    },
    {
      "cell_type": "markdown",
      "id": "a0cad32e",
      "metadata": {
        "id": "a0cad32e"
      },
      "source": [
        "![Screenshot%202023-05-07%20at%2011.19.44%20AM.png](attachment:Screenshot%202023-05-07%20at%2011.19.44%20AM.png)"
      ]
    },
    {
      "cell_type": "code",
      "execution_count": null,
      "id": "91d8f8f6",
      "metadata": {
        "id": "91d8f8f6"
      },
      "outputs": [],
      "source": [
        "#List\n",
        "\n",
        "shopping = ['milk','rice', 'wheat','juice', 'dal']"
      ]
    },
    {
      "cell_type": "code",
      "execution_count": null,
      "id": "09fe250f",
      "metadata": {
        "id": "09fe250f"
      },
      "outputs": [],
      "source": [
        "shopping = list()"
      ]
    },
    {
      "cell_type": "code",
      "execution_count": null,
      "id": "113ca8be",
      "metadata": {
        "id": "113ca8be"
      },
      "outputs": [],
      "source": [
        "shopping.append('milk')\n",
        "shopping.append('rice')"
      ]
    },
    {
      "cell_type": "code",
      "execution_count": null,
      "id": "113036cf",
      "metadata": {
        "id": "113036cf",
        "outputId": "b4c73a26-b01b-4a55-992f-22d2dca62761"
      },
      "outputs": [
        {
          "data": {
            "text/plain": [
              "'milk'"
            ]
          },
          "execution_count": 107,
          "metadata": {},
          "output_type": "execute_result"
        }
      ],
      "source": [
        "shopping[0]"
      ]
    },
    {
      "cell_type": "code",
      "execution_count": null,
      "id": "72ba8289",
      "metadata": {
        "id": "72ba8289"
      },
      "outputs": [],
      "source": [
        "shopping[0] = 'curd'"
      ]
    },
    {
      "cell_type": "code",
      "execution_count": null,
      "id": "712586a6",
      "metadata": {
        "id": "712586a6",
        "outputId": "a285d97f-618e-4041-9b3e-272490ec2c44"
      },
      "outputs": [
        {
          "data": {
            "text/plain": [
              "['curd', 'rice', 'wheat', 'juice', 'dal']"
            ]
          },
          "execution_count": 109,
          "metadata": {},
          "output_type": "execute_result"
        }
      ],
      "source": [
        "shopping"
      ]
    },
    {
      "cell_type": "code",
      "execution_count": null,
      "id": "5af9ab85",
      "metadata": {
        "id": "5af9ab85"
      },
      "outputs": [],
      "source": [
        "shopping.append('soap')"
      ]
    },
    {
      "cell_type": "code",
      "execution_count": null,
      "id": "bdff2b15",
      "metadata": {
        "id": "bdff2b15",
        "outputId": "4881f7b9-10ee-4080-d3e4-4f5913d19e43"
      },
      "outputs": [
        {
          "data": {
            "text/plain": [
              "['curd', 'rice', 'wheat', 'juice', 'dal', 'soap']"
            ]
          },
          "execution_count": 114,
          "metadata": {},
          "output_type": "execute_result"
        }
      ],
      "source": [
        "shopping"
      ]
    },
    {
      "cell_type": "code",
      "execution_count": null,
      "id": "215bbf1b",
      "metadata": {
        "id": "215bbf1b"
      },
      "outputs": [],
      "source": [
        "List can have any type\n",
        "List is iteratable\n",
        "List is indexable\n",
        "Update the data in the index\n",
        "Add the data in the index\n"
      ]
    },
    {
      "cell_type": "code",
      "execution_count": null,
      "id": "6ab077fe",
      "metadata": {
        "id": "6ab077fe",
        "outputId": "081aab11-d22f-4311-8fab-7812b9d23abe"
      },
      "outputs": [
        {
          "data": {
            "text/plain": [
              "['curd', 'rice', 'wheat', 'juice', 'dal', 'soap']"
            ]
          },
          "execution_count": 115,
          "metadata": {},
          "output_type": "execute_result"
        }
      ],
      "source": [
        "shopping"
      ]
    },
    {
      "cell_type": "code",
      "execution_count": null,
      "id": "8db1b6b2",
      "metadata": {
        "id": "8db1b6b2"
      },
      "outputs": [],
      "source": [
        "new_item = ['barley']\n",
        "place = 3"
      ]
    },
    {
      "cell_type": "code",
      "execution_count": null,
      "id": "9e0f4e18",
      "metadata": {
        "id": "9e0f4e18",
        "outputId": "7d0044ce-bca9-45be-b322-4e6372909a11"
      },
      "outputs": [
        {
          "data": {
            "text/plain": [
              "['curd', 'rice', 'wheat']"
            ]
          },
          "execution_count": 134,
          "metadata": {},
          "output_type": "execute_result"
        }
      ],
      "source": [
        "shopping[0:place]\n",
        "#0,1,2"
      ]
    },
    {
      "cell_type": "code",
      "execution_count": null,
      "id": "f3c3d808",
      "metadata": {
        "id": "f3c3d808",
        "outputId": "8a2872e2-57d9-4b29-8374-0f808484b222"
      },
      "outputs": [
        {
          "data": {
            "text/plain": [
              "['juice', 'dal', 'soap']"
            ]
          },
          "execution_count": 135,
          "metadata": {},
          "output_type": "execute_result"
        }
      ],
      "source": [
        "shopping[place:]\n",
        "#3,4,5"
      ]
    },
    {
      "cell_type": "code",
      "execution_count": null,
      "id": "abb3179f",
      "metadata": {
        "id": "abb3179f",
        "outputId": "db28c02c-090c-4d40-faeb-4c010d8ab460"
      },
      "outputs": [
        {
          "data": {
            "text/plain": [
              "['rice', 'wheat', 'juice']"
            ]
          },
          "execution_count": 120,
          "metadata": {},
          "output_type": "execute_result"
        }
      ],
      "source": [
        "shopping[1:4]"
      ]
    },
    {
      "cell_type": "code",
      "execution_count": null,
      "id": "113cf783",
      "metadata": {
        "id": "113cf783",
        "outputId": "b196c751-6a8c-4d27-8d41-5cba3cbe7012"
      },
      "outputs": [
        {
          "data": {
            "text/plain": [
              "['curd', 'rice', 'wheat', 'juice']"
            ]
          },
          "execution_count": 121,
          "metadata": {},
          "output_type": "execute_result"
        }
      ],
      "source": [
        "shopping[:4]"
      ]
    },
    {
      "cell_type": "code",
      "execution_count": null,
      "id": "5658c463",
      "metadata": {
        "id": "5658c463",
        "outputId": "b3a0619b-92a2-4348-ced3-24d0e573a8bd"
      },
      "outputs": [
        {
          "data": {
            "text/plain": [
              "['wheat', 'juice', 'dal', 'soap']"
            ]
          },
          "execution_count": 122,
          "metadata": {},
          "output_type": "execute_result"
        }
      ],
      "source": [
        "shopping[2:]"
      ]
    },
    {
      "cell_type": "code",
      "execution_count": null,
      "id": "b7fadae4",
      "metadata": {
        "id": "b7fadae4"
      },
      "outputs": [],
      "source": [
        "tail_item = shopping[place:]"
      ]
    },
    {
      "cell_type": "code",
      "execution_count": null,
      "id": "1fa87b85",
      "metadata": {
        "id": "1fa87b85"
      },
      "outputs": [],
      "source": [
        "head_item = shopping[:place]"
      ]
    },
    {
      "cell_type": "code",
      "execution_count": null,
      "id": "d57b8c09",
      "metadata": {
        "id": "d57b8c09",
        "outputId": "e0a130b2-6f63-44d7-9ec1-ae0f9d3f41a7"
      },
      "outputs": [
        {
          "data": {
            "text/plain": [
              "['juice', 'dal', 'soap']"
            ]
          },
          "execution_count": 129,
          "metadata": {},
          "output_type": "execute_result"
        }
      ],
      "source": [
        "tail_item\n"
      ]
    },
    {
      "cell_type": "code",
      "execution_count": null,
      "id": "a9ee8dc0",
      "metadata": {
        "id": "a9ee8dc0",
        "outputId": "3e3f9f8d-820e-4865-efcf-79ac13628c10"
      },
      "outputs": [
        {
          "data": {
            "text/plain": [
              "['curd', 'rice', 'wheat', 'barley', 'juice', 'dal', 'soap']"
            ]
          },
          "execution_count": 132,
          "metadata": {},
          "output_type": "execute_result"
        }
      ],
      "source": [
        "head_item+new_item+tail_item"
      ]
    },
    {
      "cell_type": "code",
      "execution_count": null,
      "id": "ca5b27ca",
      "metadata": {
        "id": "ca5b27ca"
      },
      "outputs": [],
      "source": [
        "3 with 2\n",
        "3\n",
        "\n",
        "3 with 2\n",
        "3\n",
        "\n",
        "3 with 9\n",
        "9\n",
        "\n"
      ]
    },
    {
      "cell_type": "code",
      "execution_count": null,
      "id": "b07de32a",
      "metadata": {
        "id": "b07de32a"
      },
      "outputs": [],
      "source": [
        "data = [3,2,9,1,5,10, 100]\n",
        "#return the highest number from this list"
      ]
    },
    {
      "cell_type": "code",
      "execution_count": null,
      "id": "2c6f216e",
      "metadata": {
        "id": "2c6f216e"
      },
      "outputs": [],
      "source": [
        "{\n",
        "\n",
        "}"
      ]
    },
    {
      "cell_type": "code",
      "execution_count": null,
      "id": "41ee2775",
      "metadata": {
        "id": "41ee2775"
      },
      "outputs": [],
      "source": [
        "indentation\n",
        "\n"
      ]
    },
    {
      "cell_type": "code",
      "execution_count": null,
      "id": "27665505",
      "metadata": {
        "id": "27665505",
        "outputId": "a22186ce-c682-4159-85be-0ad799f2516e"
      },
      "outputs": [
        {
          "data": {
            "text/plain": [
              "[2, 9, 1, 5, 10, 100]"
            ]
          },
          "execution_count": 145,
          "metadata": {},
          "output_type": "execute_result"
        }
      ],
      "source": [
        "data[1:]"
      ]
    },
    {
      "cell_type": "code",
      "execution_count": null,
      "id": "038f2264",
      "metadata": {
        "id": "038f2264",
        "outputId": "cdd1a8d9-d44d-4dcb-8065-5fd1458e1641"
      },
      "outputs": [
        {
          "name": "stdout",
          "output_type": "stream",
          "text": [
            "100\n"
          ]
        }
      ],
      "source": [
        "first_number = data[0]\n",
        "greatest = first_number\n",
        "for i in data[1:]:\n",
        "    if first_number>i:\n",
        "        greatest = first_number\n",
        "    else:\n",
        "        greatest = i\n",
        "    first_number = i\n",
        "print(greatest)"
      ]
    },
    {
      "cell_type": "code",
      "execution_count": null,
      "id": "5414f5b3",
      "metadata": {
        "id": "5414f5b3",
        "outputId": "ec56feb4-7318-449c-83ce-95cea895fbbb"
      },
      "outputs": [
        {
          "name": "stdout",
          "output_type": "stream",
          "text": [
            "3\n",
            "2\n",
            "9\n",
            "1\n",
            "5\n",
            "10\n"
          ]
        }
      ],
      "source": [
        "first_number = data[0]\n",
        "greatest = first_number\n",
        "for i in data[1:]:\n",
        "    print(i)\n",
        "    if first_number>i:\n",
        "        greatest = first_number\n",
        "    else:\n",
        "        greatest = i\n",
        "    first_number = i\n",
        "print(greatest)\n",
        "\n",
        "\n",
        "Iteration 1\n",
        "first_number = 3\n",
        "greatest = 3\n",
        "if 3>2:\n",
        "        greatest = 3\n",
        "else:\n",
        "        greatest = 2\n",
        "\n",
        "greatest = 3\n",
        "\n",
        "\n",
        "\n",
        "\n",
        "Iteration 2\n",
        "first_number = 3\n",
        "greatest = 3\n",
        "if 3>9:\n",
        "        greatest = 3\n",
        "else:\n",
        "        greatest = 9\n",
        "\n",
        "greatest = 9\n",
        "\n",
        "\n",
        "\n",
        "Iteration 2\n",
        "first_number = 3\n",
        "greatest = 3\n",
        "if 3>9:\n",
        "        greatest = 3\n",
        "else:\n",
        "        greatest = 9\n",
        "\n",
        "greatest = 9"
      ]
    },
    {
      "cell_type": "code",
      "execution_count": null,
      "id": "9c6e0b2b",
      "metadata": {
        "id": "9c6e0b2b",
        "outputId": "bcec8785-bf0d-44f7-b37e-e30f8db2dc98"
      },
      "outputs": [
        {
          "data": {
            "text/plain": [
              "0"
            ]
          },
          "execution_count": 150,
          "metadata": {},
          "output_type": "execute_result"
        }
      ],
      "source": [
        "2%2"
      ]
    },
    {
      "cell_type": "code",
      "execution_count": null,
      "id": "a24a7d9b",
      "metadata": {
        "id": "a24a7d9b",
        "outputId": "9d005f87-c693-4e62-c37f-084f59c26062"
      },
      "outputs": [
        {
          "name": "stdout",
          "output_type": "stream",
          "text": [
            "even\n"
          ]
        }
      ],
      "source": [
        "n = 4\n",
        "if n%2==0:\n",
        "    print(\"even\")\n",
        "else:\n",
        "    print(\"odd\")\n",
        ""
      ]
    },
    {
      "cell_type": "code",
      "execution_count": null,
      "id": "48fa9b4b",
      "metadata": {
        "id": "48fa9b4b"
      },
      "outputs": [],
      "source": []
    }
  ],
  "metadata": {
    "kernelspec": {
      "display_name": "Python 3 (ipykernel)",
      "language": "python",
      "name": "python3"
    },
    "language_info": {
      "codemirror_mode": {
        "name": "ipython",
        "version": 3
      },
      "file_extension": ".py",
      "mimetype": "text/x-python",
      "name": "python",
      "nbconvert_exporter": "python",
      "pygments_lexer": "ipython3",
      "version": "3.9.13"
    },
    "colab": {
      "provenance": [],
      "include_colab_link": true
    }
  },
  "nbformat": 4,
  "nbformat_minor": 5
}